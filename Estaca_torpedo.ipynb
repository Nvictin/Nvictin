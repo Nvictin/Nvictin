{
  "cells": [
    {
      "cell_type": "markdown",
      "metadata": {
        "id": "view-in-github",
        "colab_type": "text"
      },
      "source": [
        "<a href=\"https://colab.research.google.com/github/Nvictin/Nvictin/blob/main/Estaca_torpedo.ipynb\" target=\"_parent\"><img src=\"https://colab.research.google.com/assets/colab-badge.svg\" alt=\"Open In Colab\"/></a>"
      ]
    },
    {
      "cell_type": "markdown",
      "metadata": {
        "id": "YZxFpTBnh-qZ"
      },
      "source": [
        "Lançamento de uma Estaca Torpedo modelo T-98."
      ]
    },
    {
      "cell_type": "code",
      "execution_count": null,
      "metadata": {
        "colab": {
          "base_uri": "https://localhost:8080/"
        },
        "id": "BS5VcktDHp7s",
        "outputId": "f6c51cc1-43a1-4192-f44c-207d8fa6d90e"
      },
      "outputs": [
        {
          "output_type": "stream",
          "name": "stdout",
          "text": [
            "Coeficiente de arrasto = 0.35 Kg/m\n",
            "Diâmetro da estaca= 1.067 m\n",
            "Área da Ponta= 0.8380198403450773 m^2\n",
            "Massa= 10000 Kg\n",
            "Peso= 98100.0 kN\n",
            "Variação de tempo= 0.015 segundos\n"
          ]
        }
      ],
      "source": [
        "import numpy as np\n",
        "import matplotlib.pyplot as plt\n",
        "import math as mat\n",
        "\n",
        "#Dados\n",
        "\n",
        "Cd= 0.35\n",
        "Diâmetro= 1.067\n",
        "Ap= np.pi*0.25*Diâmetro\n",
        "M= 10\n",
        "m= M* pow(10,3)\n",
        "g=9.81\n",
        "W= m*g\n",
        "p=1025\n",
        "dt= 0.015\n",
        "\n",
        "print(\"Coeficiente de arrasto =\",Cd ,\"Kg/m\")\n",
        "print(\"Diâmetro da estaca=\",Diâmetro,\"m\")\n",
        "print(\"Área da Ponta=\",Ap,\"m^2\")\n",
        "print(\"Massa=\",m,\"Kg\")\n",
        "print(\"Peso=\",W,\"kN\")\n",
        "print(\"Variação de tempo=\",dt,\"segundos\")"
      ]
    },
    {
      "cell_type": "markdown",
      "metadata": {
        "id": "xbLJ2W55iCMP"
      },
      "source": [
        "A Âncora será lançada de um estado de repouso que se encontra a 100m do leito marinho, vale ressaltar que quanto mais profundo se localiza a estaca, as forças horizontais presentes \n",
        "como a correnteza serão despresiveis, então não existe vatagem em subir a âncora para que seja lançada à uma altura superior de 150m, o recomendado é que esteja entre 150m à 30m\n",
        "do fundo do oceano."
      ]
    },
    {
      "cell_type": "code",
      "execution_count": null,
      "metadata": {
        "id": "BNJ1q4_jIxfT"
      },
      "outputs": [],
      "source": [
        "v=[0]\n",
        "Tempo=[0]\n",
        "F_d=[]\n",
        "V=[]\n",
        "i=0\n",
        "F_d.append(0.5*pow(v[i],2)*p*Ap*Cd)\n",
        "\n",
        "while round(F_d[i],3) != W:\n",
        "  V.append(v[i]+(dt/m)*(W-F_d[i]))\n",
        "  i=i+1\n",
        "  Tempo.append(Tempo[i-1]+dt)\n",
        "  v.append(V[i-1])\n",
        "  F_d.append(0.5*(v[i]**2)*p*Ap*Cd)\n",
        "  \n",
        "\n",
        "\n"
      ]
    },
    {
      "cell_type": "markdown",
      "metadata": {
        "id": "UB93VdgMhfZH"
      },
      "source": [
        "Gráfico da Velocidade em relação ao tempo necessário para a estaca atingir a velocidade terminal."
      ]
    },
    {
      "cell_type": "code",
      "execution_count": null,
      "metadata": {
        "colab": {
          "base_uri": "https://localhost:8080/",
          "height": 282
        },
        "id": "ZR3LEL4oNRxj",
        "outputId": "dc9d1bef-b85a-45ce-b4cf-abe968e9d7c1"
      },
      "outputs": [
        {
          "output_type": "execute_result",
          "data": {
            "text/plain": [
              "[<matplotlib.lines.Line2D at 0x7f2ff64a8190>]"
            ]
          },
          "metadata": {},
          "execution_count": 23
        },
        {
          "output_type": "display_data",
          "data": {
            "text/plain": [
              "<Figure size 432x288 with 1 Axes>"
            ],
            "image/png": "[encoded data removed]"
          },
          "metadata": {
            "needs_background": "light"
          }
        }
      ],
      "source": [
        "plt.plot(Tempo,v, \"blue\")"
      ]
    },
    {
      "cell_type": "markdown",
      "metadata": {
        "id": "j5Hv0qexi1jc"
      },
      "source": [
        ""
      ]
    },
    {
      "cell_type": "code",
      "execution_count": null,
      "metadata": {
        "id": "94FDjY8Mf8Mz"
      },
      "outputs": [],
      "source": [
        "vi=[V[i-1]]\n",
        "ds=[dt*vi[0]]\n",
        "Su=5\n",
        "Sua=[2]\n",
        "a=1\n",
        "Nu=9\n",
        "T=[0]\n",
        "k=0\n",
        "profundidade=[ds[0]]"
      ]
    },
    {
      "cell_type": "code",
      "execution_count": null,
      "metadata": {
        "id": "zxBdFQvqHyRh"
      },
      "outputs": [],
      "source": [
        "Rp=Nu*Ap*Su\n",
        "Rl=[np.pi*Su*ds[0]*Diâmetro]\n",
        "Rt=[Rp+Rl[0]]"
      ]
    },
    {
      "cell_type": "code",
      "execution_count": null,
      "metadata": {
        "id": "cAoloTb7JaJQ"
      },
      "outputs": [],
      "source": [
        "Ei= [0.5*vi[0]*m]\n",
        "U= [ds[0]*Rt[0]]\n",
        "DU=[Ei[0]-U[0]]\n",
        "Vi= [np.sqrt(DU[0]/m)]"
      ]
    },
    {
      "cell_type": "code",
      "execution_count": null,
      "metadata": {
        "colab": {
          "base_uri": "https://localhost:8080/"
        },
        "id": "xDp3Vs76GBey",
        "outputId": "6ab1394d-a9a0-4e93-f63a-0155400729ef"
      },
      "outputs": [
        {
          "output_type": "stream",
          "name": "stdout",
          "text": [
            "[0, 0.015, 0.03, 0.045, 0.06, 0.075, 0.09, 0.105, 0.12, 0.135, 0.15000000000000002, 0.16500000000000004, 0.18000000000000005, 0.19500000000000006, 0.21000000000000008, 0.2250000000000001, 0.2400000000000001, 0.2550000000000001, 0.27000000000000013, 0.28500000000000014, 0.30000000000000016, 0.31500000000000017, 0.3300000000000002, 0.3450000000000002, 0.3600000000000002, 0.3750000000000002, 0.39000000000000024, 0.40500000000000025, 0.42000000000000026, 0.4350000000000003]\n"
          ]
        }
      ],
      "source": [
        "while DU[k] > 0:\n",
        "  vi.append(Vi[k])\n",
        "  k=k+1\n",
        "  ds.append(dt*vi[k])\n",
        "  T.append(T[k-1]+dt)\n",
        "  profundidade.append(ds[k]+profundidade[k-1])\n",
        "  Sua.append(5+2*profundidade[k])\n",
        "  Rl.append((np.pi)*Su*ds[k]*Diâmetro)\n",
        "  Rt.append(Rp+Rl[k])\n",
        "  Ei.append(0.5*(vi[k]**2)*m)\n",
        "  U.append(Rt[k]*ds[k])\n",
        "  DU.append(Ei[k]-U[k])\n",
        "  Vi.append(np.sqrt(DU[k]/m))\n",
        "print(T)\n",
        "\n",
        "\n",
        "  \n",
        "\n",
        "\n"
      ]
    },
    {
      "cell_type": "code",
      "execution_count": null,
      "metadata": {
        "id": "YmBvodkRQnmb",
        "colab": {
          "base_uri": "https://localhost:8080/",
          "height": 282
        },
        "outputId": "17cf9384-c901-411a-9b3a-32f294eba346"
      },
      "outputs": [
        {
          "output_type": "execute_result",
          "data": {
            "text/plain": [
              "[<matplotlib.lines.Line2D at 0x7f2ffd6d1150>]"
            ]
          },
          "metadata": {},
          "execution_count": 28
        },
        {
          "output_type": "display_data",
          "data": {
            "text/plain": [
              "<Figure size 432x288 with 1 Axes>"
            ],
            "image/png": "[encoded data removed]"
          },
          "metadata": {
            "needs_background": "light"
          }
        }
      ],
      "source": [
        "plt.plot(T,vi,\"red\")"
      ]
    },
    {
      "cell_type": "code",
      "source": [
        ""
      ],
      "metadata": {
        "id": "GOv0PwJRdxPN"
      },
      "execution_count": null,
      "outputs": []
    }
  ],
  "metadata": {
    "colab": {
      "name": "Estaca torpedo",
      "provenance": [],
      "authorship_tag": "ABX9TyMXNkYnPZTmNlTUNiS4Vg7I",
      "include_colab_link": true
    },
    "kernelspec": {
      "display_name": "Python 3",
      "name": "python3"
    },
    "language_info": {
      "name": "python"
    }
  },
  "nbformat": 4,
  "nbformat_minor": 0
}